{
 "cells": [
  {
   "cell_type": "code",
   "execution_count": 1,
   "metadata": {},
   "outputs": [
    {
     "name": "stdout",
     "output_type": "stream",
     "text": [
      "(7600,)\n",
      "(7600,)\n",
      "Fears T N pension talk Unions representing worker Turner Newall say disappointed talk stricken parent firm Federal Mogul \n",
      "3\n"
     ]
    }
   ],
   "source": [
    "import re\n",
    "import numpy as np\n",
    "import nltk\n",
    "from nltk.corpus import stopwords\n",
    "stop_words = set(stopwords.words('english'))\n",
    "pattern = re.compile(r'\\b(' + r'|'.join(stopwords.words('english')) + r')\\b\\s*')\n",
    "lemma = nltk.wordnet.WordNetLemmatizer()\n",
    "f=open('data/ag_news_csv/test.csv','r')\n",
    "lines=f.readlines()\n",
    "Y=[]\n",
    "X=[]\n",
    "for line in lines:\n",
    "    line=line.split(',')\n",
    "    Y.append(line[0].strip(\"\\\"\"))\n",
    "    text=line[1].strip(\"\\\"\")+\" \"+line[2].strip(\"\\\"\")\n",
    "    text=re.sub('[^ a-zA-Z]', '', text)\n",
    "    text= pattern.sub('', text)\n",
    "    result=\"\"\n",
    "    for word in text.split():\n",
    "        result+=lemma.lemmatize(word)+\" \"\n",
    "    text=result\n",
    "    X.append(text)\n",
    "X=np.array(X)\n",
    "Y=np.array(Y)\n",
    "print(X.shape)\n",
    "print(Y.shape)\n",
    "print(X[0])\n",
    "print(Y[0])"
   ]
  },
  {
   "cell_type": "code",
   "execution_count": 5,
   "metadata": {},
   "outputs": [],
   "source": [
    "import numpy as np\n",
    "np.random.seed(0)\n",
    "from keras.models import Model\n",
    "from keras.layers import Dense, Input, Dropout, LSTM, Activation\n",
    "from keras.layers.embeddings import Embedding\n",
    "from keras.preprocessing import sequence\n",
    "from keras.initializers import glorot_uniform\n",
    "np.random.seed(1)"
   ]
  },
  {
   "cell_type": "code",
   "execution_count": null,
   "metadata": {},
   "outputs": [],
   "source": []
  }
 ],
 "metadata": {
  "kernelspec": {
   "display_name": "Python 3",
   "language": "python",
   "name": "python3"
  },
  "language_info": {
   "codemirror_mode": {
    "name": "ipython",
    "version": 3
   },
   "file_extension": ".py",
   "mimetype": "text/x-python",
   "name": "python",
   "nbconvert_exporter": "python",
   "pygments_lexer": "ipython3",
   "version": "3.5.5"
  }
 },
 "nbformat": 4,
 "nbformat_minor": 2
}
