{
 "cells": [
  {
   "cell_type": "code",
   "execution_count": 1,
   "metadata": {},
   "outputs": [
    {
     "name": "stderr",
     "output_type": "stream",
     "text": [
      "Using Theano backend.\n",
      "WARNING (theano.configdefaults): g++ not available, if using conda: `conda install m2w64-toolchain`\n",
      "C:\\Users\\Aditi\\Anaconda3\\envs\\keras\\lib\\site-packages\\theano\\configdefaults.py:560: UserWarning: DeprecationWarning: there is no c++ compiler.This is deprecated and with Theano 0.11 a c++ compiler will be mandatory\n",
      "  warnings.warn(\"DeprecationWarning: there is no c++ compiler.\"\n",
      "WARNING (theano.configdefaults): g++ not detected ! Theano will be unable to execute optimized C-implementations (for both CPU and GPU) and will default to Python implementations. Performance will be severely degraded. To remove this warning, set Theano flags cxx to an empty string.\n",
      "WARNING (theano.tensor.blas): Using NumPy C-API based implementation for BLAS functions.\n"
     ]
    }
   ],
   "source": [
    "import numpy as np\n",
    "np.random.seed(0)\n",
    "from keras.models import Model\n",
    "from keras.layers import Dense, Input, Dropout, LSTM, Activation,Bidirectional\n",
    "from keras.layers.embeddings import Embedding\n",
    "from keras.preprocessing import sequence\n",
    "from keras.initializers import glorot_uniform\n",
    "np.random.seed(1)\n",
    "from emo_utils import *\n",
    "import glob\n",
    "import re\n",
    "from nltk.corpus import stopwords\n",
    "from nltk.tokenize import word_tokenize\n",
    "import nltk\n",
    "stop_words = set(stopwords.words('english'))\n",
    "pattern = re.compile(r'\\b(' + r'|'.join(stopwords.words('english')) + r')\\b\\s*')\n",
    "lemma = nltk.wordnet.WordNetLemmatizer()"
   ]
  },
  {
   "cell_type": "code",
   "execution_count": 2,
   "metadata": {
    "scrolled": true
   },
   "outputs": [
    {
     "name": "stdout",
     "output_type": "stream",
     "text": [
      "(120000,)\n",
      "(120000,)\n",
      "Wall Bears Claw Back Into Black Reuters Reuters Shortsellers \n",
      "2\n"
     ]
    }
   ],
   "source": [
    "f=open('data/ag_news_csv/train.csv','r')\n",
    "lines=f.readlines()\n",
    "Y=[]\n",
    "X=[]\n",
    "for line in lines:\n",
    "    line=line.split(',')\n",
    "#     -1 to start index from 0\n",
    "    Y.append(int(line[0].strip(\"\\\"\"))-1)\n",
    "    text=line[1].strip(\"\\\"\")+\" \"+line[2].strip(\"\\\"\")\n",
    "    text=re.sub('[^ a-zA-Z]', '', text)\n",
    "    text= pattern.sub('', text)\n",
    "    result=\"\"\n",
    "    for word in text.split():\n",
    "        if len(word)>=4:\n",
    "            result+=lemma.lemmatize(word)+\" \"\n",
    "    text=result\n",
    "    X.append(text)\n",
    "X=np.array(X)\n",
    "Y=np.array(Y)\n",
    "print(X.shape)\n",
    "print(Y.shape)\n",
    "print(X[0])\n",
    "print(Y[0])"
   ]
  },
  {
   "cell_type": "code",
   "execution_count": 3,
   "metadata": {},
   "outputs": [
    {
     "name": "stdout",
     "output_type": "stream",
     "text": [
      "(7600,)\n",
      "(7600,)\n",
      "Fears pension talk Unions representing worker Turner Newall disappointed talk stricken parent firm Federal Mogul \n",
      "2\n"
     ]
    }
   ],
   "source": [
    "f=open('data/ag_news_csv/test.csv','r')\n",
    "lines=f.readlines()\n",
    "YTest=[]\n",
    "XTest=[]\n",
    "for line in lines:\n",
    "    line=line.split(',')\n",
    "#     -1 to start index from 0\n",
    "    YTest.append(int(line[0].strip(\"\\\"\"))-1)\n",
    "    text=line[1].strip(\"\\\"\")+\" \"+line[2].strip(\"\\\"\")\n",
    "    text=re.sub('[^ a-zA-Z]', '', text)\n",
    "    text= pattern.sub('', text)\n",
    "    result=\"\"\n",
    "    for word in text.split():\n",
    "        if len(word)>=4:\n",
    "            result+=lemma.lemmatize(word)+\" \"\n",
    "    text=result\n",
    "    XTest.append(text)\n",
    "XTest=np.array(XTest)\n",
    "YTest=np.array(YTest)\n",
    "print(XTest.shape)\n",
    "print(YTest.shape)\n",
    "print(XTest[0])\n",
    "print(YTest[0])"
   ]
  },
  {
   "cell_type": "code",
   "execution_count": 4,
   "metadata": {},
   "outputs": [],
   "source": [
    "# GRADED FUNCTION: sentences_to_indices\n",
    "\n",
    "def sentences_to_indices(X, word_to_index, max_len):\n",
    "    \"\"\"\n",
    "    Converts an array of sentences (strings) into an array of indices corresponding to words in the sentences.\n",
    "    The output shape should be such that it can be given to `Embedding()` (described in Figure 4). \n",
    "    \n",
    "    Arguments:\n",
    "    X -- array of sentences (strings), of shape (m, 1)\n",
    "    word_to_index -- a dictionary containing the each word mapped to its index\n",
    "    max_len -- maximum number of words in a sentence. You can assume every sentence in X is no longer than this. \n",
    "    \n",
    "    Returns:\n",
    "    X_indices -- array of indices corresponding to words in the sentences from X, of shape (m, max_len)\n",
    "    \"\"\"\n",
    "    \n",
    "    m = X.shape[0]                                   # number of training examples\n",
    "    \n",
    "    ### START CODE HERE ###\n",
    "    # Initialize X_indices as a numpy matrix of zeros and the correct shape (≈ 1 line)\n",
    "    X_indices = np.zeros((m, max_len))\n",
    "    \n",
    "    for i in range(m):                               # loop over training examples\n",
    "        \n",
    "        # Convert the ith training sentence in lower case and split is into words. You should get a list of words.\n",
    "        sentence_words = [w.lower() for w in X[i].split()]\n",
    "        \n",
    "        # Initialize j to 0\n",
    "        j = 0\n",
    "        \n",
    "        # Loop over the words of sentence_words\n",
    "#         if len(sentence_words)>=78:\n",
    "#             print(len(sentence_words))\n",
    "#             print(i)\n",
    "        for w in sentence_words:\n",
    "            # Set the (i,j)th entry of X_indices to the index of the correct word.\n",
    "            if w in word_to_index.keys():\n",
    "                X_indices[i, j] = word_to_index[w]\n",
    "                j += 1\n",
    "                if j>=25:\n",
    "                    break;\n",
    "            # Increment j to j + 1\n",
    "            \n",
    "            \n",
    "    ### END CODE HERE ###\n",
    "    \n",
    "    return X_indices"
   ]
  },
  {
   "cell_type": "code",
   "execution_count": 5,
   "metadata": {},
   "outputs": [],
   "source": [
    "def read_glove_vecs():\n",
    "    with open('data/glove.6B.50d.txt','r',encoding='utf8') as f:\n",
    "        words = set()\n",
    "        word_to_vec_map = {}\n",
    "        for line in f:\n",
    "            line = line.strip().split()\n",
    "            curr_word = line[0]\n",
    "            words.add(curr_word)\n",
    "            word_to_vec_map[curr_word] = np.array(line[1:], dtype=np.float64)\n",
    "        \n",
    "        i = 1\n",
    "        words_to_index = {}\n",
    "        index_to_words = {}\n",
    "        for w in sorted(words):\n",
    "            words_to_index[w] = i\n",
    "            index_to_words[i] = w\n",
    "            i = i + 1\n",
    "    return words_to_index, index_to_words, word_to_vec_map"
   ]
  },
  {
   "cell_type": "code",
   "execution_count": 6,
   "metadata": {},
   "outputs": [
    {
     "data": {
      "text/plain": [
       "array([0.09003057, 0.24472847, 0.66524096])"
      ]
     },
     "execution_count": 6,
     "metadata": {},
     "output_type": "execute_result"
    }
   ],
   "source": [
    "softmax([1,2,3])"
   ]
  },
  {
   "cell_type": "code",
   "execution_count": 7,
   "metadata": {},
   "outputs": [
    {
     "name": "stdout",
     "output_type": "stream",
     "text": [
      "25\n"
     ]
    }
   ],
   "source": [
    "maxLen=25\n",
    "# for i in X:\n",
    "    \n",
    "#     if len(i)>maxLen:\n",
    "#         maxLen=len(i)\n",
    "# # maxLen = len(max(X, key=len).split())\n",
    "print(maxLen)"
   ]
  },
  {
   "cell_type": "code",
   "execution_count": 8,
   "metadata": {},
   "outputs": [
    {
     "name": "stdout",
     "output_type": "stream",
     "text": [
      "[[0. 0. 1. 0.]\n",
      " [0. 0. 1. 0.]\n",
      " [0. 0. 1. 0.]\n",
      " ...\n",
      " [0. 1. 0. 0.]\n",
      " [0. 1. 0. 0.]\n",
      " [0. 1. 0. 0.]]\n"
     ]
    }
   ],
   "source": [
    "Y_oh_train = convert_to_one_hot(Y, C = 4)\n",
    "Y_oh_test = convert_to_one_hot(YTest, C = 4)\n",
    "# Y147=np.array(Y147)\n",
    "# Y173=np.array(Y173)\n",
    "# Y161=np.array(Y161)\n",
    "# Y162=np.array(Y162)\n",
    "# Y_oh_147=convert_to_one_hot(Y147, C = 5)\n",
    "# Y_oh_173=convert_to_one_hot(Y173, C = 5)\n",
    "# Y_oh_161=convert_to_one_hot(Y161, C = 5)\n",
    "# Y_oh_162=convert_to_one_hot(Y162, C = 5)\n",
    "print(Y_oh_train)"
   ]
  },
  {
   "cell_type": "code",
   "execution_count": 9,
   "metadata": {},
   "outputs": [],
   "source": [
    "word_to_index, index_to_word, word_to_vec_map = read_glove_vecs()"
   ]
  },
  {
   "cell_type": "code",
   "execution_count": 10,
   "metadata": {},
   "outputs": [
    {
     "name": "stdout",
     "output_type": "stream",
     "text": [
      "the index of cucumber in the vocabulary is 113317\n",
      "the 289846th word in the vocabulary is potatos\n",
      "[ 0.68224  -0.31608  -0.95201   0.47108   0.56571   0.13151   0.22457\n",
      "  0.094995 -1.3237   -0.51545  -0.39337   0.88488   0.93826   0.22931\n",
      "  0.088624 -0.53908   0.23396   0.73245  -0.019123 -0.26552  -0.40433\n",
      " -1.5832    1.1316    0.4419   -0.48218   0.4828    0.14938   1.1245\n",
      "  1.0159   -0.50213   0.83831  -0.31303   0.083242  1.7161    0.15024\n",
      "  1.0324   -1.5005    0.62348   0.54508  -0.88484   0.53279  -0.085119\n",
      "  0.02141  -0.56629   1.1463    0.6464    0.78318  -0.067662  0.22884\n",
      " -0.042453]\n"
     ]
    }
   ],
   "source": [
    "word = \"cucumber\"\n",
    "index = 289846\n",
    "print(\"the index of\", word, \"in the vocabulary is\", word_to_index[word])\n",
    "print(\"the\", str(index) + \"th word in the vocabulary is\", index_to_word[index])\n",
    "print(word_to_vec_map[\"cucumber\"])"
   ]
  },
  {
   "cell_type": "code",
   "execution_count": 11,
   "metadata": {},
   "outputs": [
    {
     "name": "stdout",
     "output_type": "stream",
     "text": [
      "X1 = ['sonu lol' 'lets play baseball' 'food is ready for you']\n",
      "X1_indices = [[337638. 225122.      0.      0.      0.]\n",
      " [220930. 286375.  69714.      0.      0.]\n",
      " [151204. 192973. 302254. 151349. 394475.]]\n"
     ]
    }
   ],
   "source": [
    "X1 = np.array([\"sonu lol\", \"lets play baseball\", \"food is ready for you\"])\n",
    "X1_indices = sentences_to_indices(X1,word_to_index, max_len = 5)\n",
    "print(\"X1 =\", X1)\n",
    "print(\"X1_indices =\", X1_indices)"
   ]
  },
  {
   "cell_type": "code",
   "execution_count": 12,
   "metadata": {},
   "outputs": [],
   "source": [
    "# GRADED FUNCTION: pretrained_embedding_layer\n",
    "\n",
    "def pretrained_embedding_layer(word_to_vec_map, word_to_index):\n",
    "    \"\"\"\n",
    "    Creates a Keras Embedding() layer and loads in pre-trained GloVe 50-dimensional vectors.\n",
    "    \n",
    "    Arguments:\n",
    "    word_to_vec_map -- dictionary mapping words to their GloVe vector representation.\n",
    "    word_to_index -- dictionary mapping from words to their indices in the vocabulary (400,001 words)\n",
    "\n",
    "    Returns:\n",
    "    embedding_layer -- pretrained layer Keras instance\n",
    "    \"\"\"\n",
    "    \n",
    "    vocab_len = len(word_to_index) + 1                  # adding 1 to fit Keras embedding (requirement)\n",
    "    emb_dim = word_to_vec_map[\"cucumber\"].shape[0]      # define dimensionality of your GloVe word vectors (= 50)\n",
    "    \n",
    "    ### START CODE HERE ###\n",
    "    # Initialize the embedding matrix as a numpy array of zeros of shape (vocab_len, dimensions of word vectors = emb_dim)\n",
    "    emb_matrix = np.zeros((vocab_len, emb_dim))\n",
    "    \n",
    "    # Set each row \"index\" of the embedding matrix to be the word vector representation of the \"index\"th word of the vocabulary\n",
    "    for word, index in word_to_index.items():\n",
    "        emb_matrix[index, :] = word_to_vec_map[word]\n",
    "\n",
    "    # Define Keras embedding layer with the correct output/input sizes, make it trainable. Use Embedding(...). Make sure to set trainable=False. \n",
    "    embedding_layer = Embedding(vocab_len, emb_dim, trainable=False)\n",
    "    ### END CODE HERE ###\n",
    "\n",
    "    # Build the embedding layer, it is required before setting the weights of the embedding layer. Do not modify the \"None\".\n",
    "    embedding_layer.build((None,))\n",
    "    \n",
    "    # Set the weights of the embedding layer to the embedding matrix. Your layer is now pretrained.\n",
    "    embedding_layer.set_weights([emb_matrix])\n",
    "    \n",
    "    return embedding_layer"
   ]
  },
  {
   "cell_type": "code",
   "execution_count": 14,
   "metadata": {},
   "outputs": [
    {
     "name": "stdout",
     "output_type": "stream",
     "text": [
      "weights[0][1][3] = -0.3403\n"
     ]
    }
   ],
   "source": [
    "embedding_layer = pretrained_embedding_layer(word_to_vec_map, word_to_index)\n",
    "print(\"weights[0][1][3] =\", embedding_layer.get_weights()[0][1][3])"
   ]
  },
  {
   "cell_type": "code",
   "execution_count": 15,
   "metadata": {},
   "outputs": [],
   "source": [
    "# GRADED FUNCTION: Emojify_V2\n",
    "\n",
    "def Emojify_V2(input_shape, word_to_vec_map, word_to_index):\n",
    "    \"\"\"\n",
    "    Function creating the Emojify-v2 model's graph.\n",
    "    \n",
    "    Arguments:\n",
    "    input_shape -- shape of the input, usually (max_len,)\n",
    "    word_to_vec_map -- dictionary mapping every word in a vocabulary into its 50-dimensional vector representation\n",
    "    word_to_index -- dictionary mapping from words to their indices in the vocabulary (400,001 words)\n",
    "\n",
    "    Returns:\n",
    "    model -- a model instance in Keras\n",
    "    \"\"\"\n",
    "    \n",
    "    ### START CODE HERE ###\n",
    "    # Define sentence_indices as the input of the graph, it should be of shape input_shape and dtype 'int32' (as it contains indices).\n",
    "    sentence_indices = Input(input_shape, dtype='int32')\n",
    "    \n",
    "    # Create the embedding layer pretrained with GloVe Vectors (≈1 line)\n",
    "    embedding_layer = pretrained_embedding_layer(word_to_vec_map, word_to_index)\n",
    "    \n",
    "    # Propagate sentence_indices through your embedding layer, you get back the embeddings\n",
    "    embeddings = embedding_layer(sentence_indices)   \n",
    "    \n",
    "    # Propagate the embeddings through an LSTM layer with 128-dimensional hidden state\n",
    "    # Be careful, the returned output should be a batch of sequences.\n",
    "    X = Bidirectional(LSTM(128, return_sequences=True))(embeddings)\n",
    "    # Add dropout with a probability of 0.5\n",
    "    X = Dropout(0.5)(X)\n",
    "    # Propagate X trough another LSTM layer with 128-dimensional hidden state\n",
    "    # Be careful, the returned output should be a single hidden state, not a batch of sequences.\n",
    "    X = LSTM(128, return_sequences=False)(X)\n",
    "    # Add dropout with a probability of 0.5\n",
    "    X = Dropout(0.5)(X)\n",
    "    # Propagate X through a Dense layer with softmax activation to get back a batch of 5-dimensional vectors.\n",
    "    X = Dense(4)(X)\n",
    "    # Add a softmax activation\n",
    "    X = Activation('softmax')(X)\n",
    "    \n",
    "    # Create Model instance which converts sentence_indices into X.\n",
    "    model = Model(inputs=sentence_indices, outputs=X)\n",
    "    \n",
    "    ### END CODE HERE ###\n",
    "    \n",
    "    return model"
   ]
  },
  {
   "cell_type": "code",
   "execution_count": 16,
   "metadata": {},
   "outputs": [
    {
     "name": "stdout",
     "output_type": "stream",
     "text": [
      "_________________________________________________________________\n",
      "Layer (type)                 Output Shape              Param #   \n",
      "=================================================================\n",
      "input_1 (InputLayer)         (None, 25)                0         \n",
      "_________________________________________________________________\n",
      "embedding_3 (Embedding)      (None, 25, 50)            20000050  \n",
      "_________________________________________________________________\n",
      "bidirectional_1 (Bidirection (None, 25, 256)           183296    \n",
      "_________________________________________________________________\n",
      "dropout_1 (Dropout)          (None, 25, 256)           0         \n",
      "_________________________________________________________________\n",
      "lstm_2 (LSTM)                (None, 128)               197120    \n",
      "_________________________________________________________________\n",
      "dropout_2 (Dropout)          (None, 128)               0         \n",
      "_________________________________________________________________\n",
      "dense_1 (Dense)              (None, 4)                 516       \n",
      "_________________________________________________________________\n",
      "activation_1 (Activation)    (None, 4)                 0         \n",
      "=================================================================\n",
      "Total params: 20,380,982\n",
      "Trainable params: 380,932\n",
      "Non-trainable params: 20,000,050\n",
      "_________________________________________________________________\n"
     ]
    }
   ],
   "source": [
    "model = Emojify_V2((maxLen,), word_to_vec_map, word_to_index)\n",
    "model.summary()"
   ]
  },
  {
   "cell_type": "code",
   "execution_count": 17,
   "metadata": {},
   "outputs": [
    {
     "name": "stdout",
     "output_type": "stream",
     "text": [
      "Flow Interstellar Helium Solar System European Space Agency Consensus condition cloud interstellar surrounding several insitu observation method Through coordinated observation instrument several NASA spacecraft collaborative analysis effort hosted International Space Science Institute ISSI international team scientist compiled first time consistent physical parameter helium local interstellar cloud surround solar system Careful analysis data three complementary observation method produced reliable physical parameter local cloud used model interaction surrounding interstellar establish dimension solar system \n"
     ]
    }
   ],
   "source": [
    "model.compile(loss='categorical_crossentropy', optimizer='adam', metrics=['accuracy'])\n",
    "print(X[56167])"
   ]
  },
  {
   "cell_type": "code",
   "execution_count": 18,
   "metadata": {},
   "outputs": [],
   "source": [
    "X_train_indices = sentences_to_indices(X, word_to_index, maxLen)\n",
    "Y_train_oh = convert_to_one_hot(Y, C = 4)"
   ]
  },
  {
   "cell_type": "code",
   "execution_count": null,
   "metadata": {},
   "outputs": [
    {
     "name": "stdout",
     "output_type": "stream",
     "text": [
      "Epoch 1/10\n",
      "   512/120000 [..............................] - ETA: 78:27:21 - loss: 1.3913 - acc: 0.2617"
     ]
    }
   ],
   "source": [
    "model.fit(X_train_indices, Y_train_oh, epochs = 10, batch_size = 512, shuffle=True)"
   ]
  },
  {
   "cell_type": "code",
   "execution_count": null,
   "metadata": {},
   "outputs": [],
   "source": [
    "X_test_indices = sentences_to_indices(XTest, word_to_index, max_len = maxLen)\n",
    "Y_test_oh = convert_to_one_hot(YTest, C = 4)\n",
    "loss, acc = model.evaluate(X_test_indices, Y_test_oh)\n",
    "print()\n",
    "print(\"Test accuracy = \", acc)"
   ]
  },
  {
   "cell_type": "code",
   "execution_count": null,
   "metadata": {},
   "outputs": [],
   "source": [
    "from keras.models import load_model\n",
    "\n",
    "model.save('my_model10epochApproach3.h5')  # creates a HDF5 file 'my_model.h5'\n",
    "# del model  # deletes the existing model\n",
    "\n",
    "# returns a compiled model\n",
    "# identical to the previous one\n",
    "# model = load_model('my_model.h5')"
   ]
  },
  {
   "cell_type": "code",
   "execution_count": null,
   "metadata": {},
   "outputs": [],
   "source": [
    "correct_prediction = tf.equal(tf.argmax(y, 1), tf.argmax(y_, 1))\n",
    "accuracy = tf.reduce_mean(tf.cast(correct_prediction, tf.float32))\n",
    "print(\"accuracy\")\n",
    "print(sess.run(accuracy, feed_dict={x:X_test_avg,y_:Y_oh_test}))\n"
   ]
  },
  {
   "cell_type": "code",
   "execution_count": null,
   "metadata": {},
   "outputs": [],
   "source": [
    "saver = tf.train.Saver()\n",
    "saver.save(sess, 'model/model.ckpt')\n"
   ]
  },
  {
   "cell_type": "code",
   "execution_count": null,
   "metadata": {},
   "outputs": [],
   "source": [
    "sess.close()\n",
    "\n",
    "sess = tf.Session()\n",
    "saver = tf.train.Saver()\n",
    "saver.restore(sess, 'model/model.ckpt')"
   ]
  },
  {
   "cell_type": "code",
   "execution_count": null,
   "metadata": {},
   "outputs": [],
   "source": [
    "print(sess.run(accuracy, feed_dict={x:X_test_avg,y_:Y_oh_test}))"
   ]
  },
  {
   "cell_type": "code",
   "execution_count": null,
   "metadata": {},
   "outputs": [],
   "source": [
    "print(sess.run(accuracy, feed_dict={x:X_train_avg,y_:Y_oh_train}))\n",
    "# print(sess.run(accuracy, feed_dict={x:X147_avg,y_:Y_oh_147}))\n",
    "\n",
    "# print(sess.run(accuracy, feed_dict={x:X173_avg,y_:Y_oh_173}))\n",
    "\n",
    "# print(sess.run(accuracy, feed_dict={x:X162_avg,y_:Y_oh_162}))\n",
    "\n",
    "# print(sess.run(accuracy, feed_dict={x:X161_avg,y_:Y_oh_161}))"
   ]
  },
  {
   "cell_type": "code",
   "execution_count": null,
   "metadata": {},
   "outputs": [],
   "source": [
    "\n",
    "correct_prediction = tf.equal(tf.argmax(y, 1), tf.argmax(y_, 1))\n",
    "accuracy = tf.reduce_mean(tf.cast(correct_prediction, tf.float32))\n",
    "print(\"accuracy\")\n",
    "print(sess.run(accuracy, feed_dict={x:X_test_avg,y_:Y_oh_test}))"
   ]
  },
  {
   "cell_type": "code",
   "execution_count": null,
   "metadata": {},
   "outputs": [],
   "source": [
    "predictionPercentage = tf.reduce_max(y, 1)*100\n",
    "predictedIndex=tf.argmax(y,1)\n",
    "correct_prediction = tf.equal(tf.argmax(y, 1), tf.argmax(y_, 1))\n",
    "print(sess.run(predictionPercentage, feed_dict={x:X162_avg,y_:Y_oh_162}))\n",
    "print(sess.run(correct_prediction, feed_dict={x:X162_avg,y_:Y_oh_162}))\n",
    "print(sess.run(predictedIndex, feed_dict={x:X162_avg,y_:Y_oh_162}))\n",
    "f=open('predictions162.txt','w')\n",
    "f.write(str(sess.run(predictionPercentage, feed_dict={x:X162_avg,y_:Y_oh_162})))\n",
    "f.write(str(sess.run(correct_prediction, feed_dict={x:X162_avg,y_:Y_oh_162})))\n",
    "f.write(str(sess.run(predictedIndex, feed_dict={x:X162_avg,y_:Y_oh_162})))\n",
    "f.close()"
   ]
  },
  {
   "cell_type": "code",
   "execution_count": null,
   "metadata": {},
   "outputs": [],
   "source": [
    "predictionPercentage = tf.reduce_max(y, 1)*100\n",
    "predictedIndex=tf.argmax(y,1)\n",
    "correct_prediction = tf.equal(tf.argmax(y, 1), tf.argmax(y_, 1))\n",
    "print(sess.run(predictionPercentage, feed_dict={x:X147_avg,y_:Y_oh_147}))\n",
    "print(sess.run(correct_prediction, feed_dict={x:X147_avg,y_:Y_oh_147}))\n",
    "print(sess.run(predictedIndex, feed_dict={x:X147_avg,y_:Y_oh_147}))\n",
    "f=open('predictions147.txt','w')\n",
    "f.write(str(sess.run(predictionPercentage, feed_dict={x:X147_avg,y_:Y_oh_147})))\n",
    "f.write(str(sess.run(correct_prediction, feed_dict={x:X147_avg,y_:Y_oh_147})))\n",
    "f.write(str(sess.run(predictedIndex, feed_dict={x:X147_avg,y_:Y_oh_147})))\n",
    "f.close()"
   ]
  },
  {
   "cell_type": "code",
   "execution_count": null,
   "metadata": {},
   "outputs": [],
   "source": [
    "predictionPercentage = tf.reduce_max(y, 1)*100\n",
    "predictedIndex=tf.argmax(y,1)\n",
    "correct_prediction = tf.equal(tf.argmax(y, 1), tf.argmax(y_, 1))\n",
    "print(sess.run(predictionPercentage, feed_dict={x:X173_avg,y_:Y_oh_173}))\n",
    "print(sess.run(correct_prediction, feed_dict={x:X173_avg,y_:Y_oh_173}))\n",
    "print(sess.run(predictedIndex, feed_dict={x:X147_avg,y_:Y_oh_173}))\n",
    "f=open('predictions173.txt','w')\n",
    "f.write(str(sess.run(predictionPercentage, feed_dict={x:X173_avg,y_:Y_oh_173})))\n",
    "f.write(str(sess.run(correct_prediction, feed_dict={x:X173_avg,y_:Y_oh_173})))\n",
    "f.write(str(sess.run(predictedIndex, feed_dict={x:X147_avg,y_:Y_oh_173})))\n",
    "f.close()"
   ]
  },
  {
   "cell_type": "code",
   "execution_count": null,
   "metadata": {},
   "outputs": [],
   "source": [
    "predictionPercentage = tf.reduce_max(y, 1)*100\n",
    "predictedIndex=tf.argmax(y,1)\n",
    "correct_prediction = tf.equal(tf.argmax(y, 1), tf.argmax(y_, 1))\n",
    "print(sess.run(predictionPercentage, feed_dict={x:X161_avg,y_:Y_oh_161}))\n",
    "print(sess.run(correct_prediction, feed_dict={x:X161_avg,y_:Y_oh_161}))\n",
    "print(sess.run(predictedIndex, feed_dict={x:X161_avg,y_:Y_oh_161}))\n",
    "f=open('predictions161.txt','w')\n",
    "f.write(str(sess.run(predictionPercentage, feed_dict={x:X161_avg,y_:Y_oh_161})))\n",
    "f.write(str(sess.run(correct_prediction, feed_dict={x:X161_avg,y_:Y_oh_161})))\n",
    "f.write(str(sess.run(predictedIndex, feed_dict={x:X161_avg,y_:Y_oh_161})))\n",
    "f.close()"
   ]
  },
  {
   "cell_type": "code",
   "execution_count": null,
   "metadata": {},
   "outputs": [],
   "source": [
    "\n",
    "newDataX=[]\n",
    "newDataY=[]\n",
    "path = './sports.txt'\n",
    "files=glob.glob(path)\n",
    "for file in files:\n",
    "    f=open(file,'r',encoding=\"utf8\")\n",
    "    content=f.read().lower()\n",
    "    content=re.sub('[^ a-zA-Z]', '', content)\n",
    "    content= pattern.sub('', content)\n",
    "    result=\"\"\n",
    "    for word in content.split():\n",
    "        result+=lemma.lemmatize(word)+\" \"\n",
    "    content=result\n",
    "    newDataX.append(content)\n",
    "    newDataY.append(4)\n",
    "newDataXavg=[]\n",
    "for i in range(0,np.shape(newDataX)[0]):\n",
    "    newDataXavg.append(sentence_to_avg(newDataX[i], word_to_vec_map))\n",
    "newDataY=np.array(newDataY)\n",
    "newDataY_oh=convert_to_one_hot(newDataY, C = 5)\n",
    "\n",
    "predictionPercentage = tf.reduce_max(y, 1)*100\n",
    "predictedIndex=tf.argmax(y,1)\n",
    "correct_prediction = tf.equal(tf.argmax(y, 1), tf.argmax(y_, 1))\n",
    "print(sess.run(predictionPercentage,feed_dict={x:newDataXavg,y_:newDataY_oh}))\n",
    "print(sess.run(predictedIndex,feed_dict={x:newDataXavg,y_:newDataY_oh}))\n",
    "#print(sess.run(correct_prediction,feed_dict={x:newDataXavg,y_:newDataY_oh}))\n",
    "correct_prediction = tf.equal(tf.argmax(y, 1), tf.argmax(y_, 1))\n",
    "accuracy = tf.reduce_mean(tf.cast(correct_prediction, tf.float32))\n",
    "print(\"accuracy\")\n",
    "print(sess.run(accuracy, feed_dict={x:newDataXavg,y_:newDataY_oh}))"
   ]
  },
  {
   "cell_type": "code",
   "execution_count": null,
   "metadata": {},
   "outputs": [],
   "source": [
    "from nltk.corpus import stopwords\n",
    "from nltk.tokenize import word_tokenize\n",
    "import re\n",
    "# nltk.download('stopwords')\n",
    "# nltk.download('punkt')\n",
    "example_sent = \"This is a sample sentence, showing off the stop words filtration.\"\n",
    " \n",
    "stop_words = set(stopwords.words('english'))\n",
    "\n",
    "pattern = re.compile(r'\\b(' + r'|'.join(stopwords.words('english')) + r')\\b\\s*')\n",
    "text = pattern.sub('', example_sent)\n",
    "print(text)\n",
    "nltk.download('wordnet')\n",
    "result=\"\"\n",
    "for word in text.split():\n",
    "    result+=lemma.lemmatize(word)+\" \"\n",
    "    \n",
    "print(result)"
   ]
  },
  {
   "cell_type": "code",
   "execution_count": null,
   "metadata": {},
   "outputs": [],
   "source": [
    "saver = tf.train.Saver()\n",
    "saver.save(sess, 'model/model.ckpt')\n",
    "sess.close()\n",
    "\n",
    "sess = tf.Session()\n",
    "saver = tf.train.Saver()\n",
    "saver.restore(sess, 'model/model.ckpt')"
   ]
  },
  {
   "cell_type": "code",
   "execution_count": null,
   "metadata": {},
   "outputs": [],
   "source": [
    "newDataX=[]\n",
    "newDataY=[]\n",
    "path = './177/*.txt'\n",
    "files=glob.glob(path)\n",
    "for file in files:\n",
    "    f=open(file,'r')\n",
    "    content=f.read().lower()\n",
    "    content=re.sub('[^ a-zA-Z]', '', content)\n",
    "    content= pattern.sub('', content)\n",
    "    result=\"\"\n",
    "    for word in content.split():\n",
    "        result+=lemma.lemmatize(word)+\" \"\n",
    "    content=result\n",
    "    newDataX.append(content)\n",
    "    newDataY.append(3)\n",
    "newDataXavg=[]\n",
    "for i in range(0,np.shape(newDataX)[0]):\n",
    "    newDataXavg.append(sentence_to_avg(newDataX[i], word_to_vec_map))\n",
    "newDataY=np.array(newDataY)\n",
    "newDataY_oh=convert_to_one_hot(newDataY, C = 5)\n",
    "\n",
    "predictionPercentage = tf.reduce_max(y, 1)*100\n",
    "predictedIndex=tf.argmax(y,1)\n",
    "correct_prediction = tf.equal(tf.argmax(y, 1), tf.argmax(y_, 1))\n",
    "print(sess.run(predictionPercentage,feed_dict={x:newDataXavg,y_:newDataY_oh}))\n",
    "print(sess.run(predictedIndex,feed_dict={x:newDataXavg,y_:newDataY_oh}))\n",
    "#print(sess.run(correct_prediction,feed_dict={x:newDataXavg,y_:newDataY_oh}))\n",
    "correct_prediction = tf.equal(tf.argmax(y, 1), tf.argmax(y_, 1))\n",
    "accuracy = tf.reduce_mean(tf.cast(correct_prediction, tf.float32))\n",
    "print(\"accuracy\")\n",
    "print(sess.run(accuracy, feed_dict={x:newDataXavg,y_:newDataY_oh}))"
   ]
  },
  {
   "cell_type": "code",
   "execution_count": null,
   "metadata": {},
   "outputs": [],
   "source": []
  }
 ],
 "metadata": {
  "kernelspec": {
   "display_name": "Python 3",
   "language": "python",
   "name": "python3"
  },
  "language_info": {
   "codemirror_mode": {
    "name": "ipython",
    "version": 3
   },
   "file_extension": ".py",
   "mimetype": "text/x-python",
   "name": "python",
   "nbconvert_exporter": "python",
   "pygments_lexer": "ipython3",
   "version": "3.6.9"
  }
 },
 "nbformat": 4,
 "nbformat_minor": 2
}
